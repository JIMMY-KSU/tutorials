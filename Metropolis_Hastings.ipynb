{
 "cells": [
  {
   "cell_type": "code",
   "execution_count": 1,
   "metadata": {
    "collapsed": true
   },
   "outputs": [],
   "source": [
    "%matplotlib inline\n",
    "import math\n",
    "import random\n",
    "import matplotlib.pyplot as plt\n",
    "\n",
    "\n",
    "def std_normal(x):\n",
    "    return (1/math.sqrt(math.pi * 2)) * math.exp(-x**2 / 2)\n",
    "\n",
    "def next_state(x):\n",
    "    if random.random() <= .5:\n",
    "        return x + .1\n",
    "    else:\n",
    "        return x - .1\n",
    "\n",
    "def metropolis_hastings(distribution, state, next_state):    \n",
    "    possible_state = next_state(state)\n",
    "    transition_odds = distribution(possible_state) / distribution(state)\n",
    "    if random.random() <= transition_odds:\n",
    "        return possible_state\n",
    "    else:\n",
    "        return state\n",
    "    "
   ]
  },
  {
   "cell_type": "code",
   "execution_count": 2,
   "metadata": {
    "collapsed": true
   },
   "outputs": [],
   "source": [
    "state = .1\n",
    "xs = []\n",
    "for _ in range(1000000):\n",
    "    state = metropolis_hastings(std_normal, state, next_state)\n",
    "    xs.append(state)\n",
    "    "
   ]
  },
  {
   "cell_type": "code",
   "execution_count": 19,
   "metadata": {
    "collapsed": false
   },
   "outputs": [
    {
     "data": {
      "image/png": "[encoded data removed]",
      "text/plain": [
       "<matplotlib.figure.Figure at 0xb97a7f0>"
      ]
     },
     "metadata": {},
     "output_type": "display_data"
    }
   ],
   "source": [
    "plt.hist(xs, normed=False, bins=100)\n",
    "plt.show()"
   ]
  }
 ],
 "metadata": {
  "kernelspec": {
   "display_name": "Python 3",
   "language": "python",
   "name": "python3"
  },
  "language_info": {
   "codemirror_mode": {
    "name": "ipython",
    "version": 3
   },
   "file_extension": ".py",
   "mimetype": "text/x-python",
   "name": "python",
   "nbconvert_exporter": "python",
   "pygments_lexer": "ipython3",
   "version": "3.4.3"
  }
 },
 "nbformat": 4,
 "nbformat_minor": 0
}
