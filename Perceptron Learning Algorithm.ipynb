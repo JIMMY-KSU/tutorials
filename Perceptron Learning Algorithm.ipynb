{
 "cells": [
  {
   "cell_type": "code",
   "execution_count": 1,
   "metadata": {
    "collapsed": false
   },
   "outputs": [
    {
     "data": {
      "text/html": [
       "<style>\n",
       "@import url('http://fonts.googleapis.com/css?family=Source+Code+Pro');\n",
       "@import url('http://fonts.googleapis.com/css?family=Vollkorn');\n",
       "@import url('http://fonts.googleapis.com/css?family=Arimo');\n",
       "@import url('http://fonts.googleapis.com/css?family=Fira_sans');\n",
       "\n",
       "    div.cell{\n",
       "        width: 900px;\n",
       "        margin-left: 0% !important;\n",
       "        margin-right: auto;\n",
       "    }\n",
       "    div.text_cell code {\n",
       "        background: transparent;\n",
       "        color: #000000;\n",
       "        font-weight: 600;\n",
       "        font-size: 11pt;\n",
       "        font-style: bold;\n",
       "        font-family:  'Source Code Pro', Consolas, monocco, monospace;\n",
       "   }\n",
       "    h1 {\n",
       "        font-family: 'Open sans',verdana,arial,sans-serif;\n",
       "\t}\n",
       "\t\n",
       "    div.input_area {\n",
       "        background: #F6F6F9;\n",
       "        border: 1px solid #586e75;\n",
       "    }\n",
       "\n",
       "    .text_cell_render h1 {\n",
       "        font-weight: 200;\n",
       "        font-size: 30pt;\n",
       "        line-height: 100%;\n",
       "        color:#c76c0c;\n",
       "        margin-bottom: 0.5em;\n",
       "        margin-top: 1em;\n",
       "        display: block;\n",
       "        white-space: wrap;\n",
       "        text-align: left;\n",
       "    } \n",
       "    h2 {\n",
       "        font-family: 'Open sans',verdana,arial,sans-serif;\n",
       "        text-align: left;\n",
       "    }\n",
       "    .text_cell_render h2 {\n",
       "        font-weight: 200;\n",
       "        font-size: 16pt;\n",
       "        font-style: italic;\n",
       "        line-height: 100%;\n",
       "        color:#c76c0c;\n",
       "        margin-bottom: 0.5em;\n",
       "        margin-top: 1.5em;\n",
       "        display: block;\n",
       "        white-space: wrap;\n",
       "        text-align: left;\n",
       "    } \n",
       "    h3 {\n",
       "        font-family: 'Open sans',verdana,arial,sans-serif;\n",
       "    }\n",
       "    .text_cell_render h3 {\n",
       "        font-weight: 200;\n",
       "        font-size: 14pt;\n",
       "        line-height: 100%;\n",
       "        color:#d77c0c;\n",
       "        margin-bottom: 0.5em;\n",
       "        margin-top: 2em;\n",
       "        display: block;\n",
       "        white-space: wrap;\n",
       "        text-align: left;\n",
       "    }\n",
       "    h4 {\n",
       "        font-family: 'Open sans',verdana,arial,sans-serif;\n",
       "    }\n",
       "    .text_cell_render h4 {\n",
       "        font-weight: 100;\n",
       "        font-size: 14pt;\n",
       "        color:#d77c0c;\n",
       "        margin-bottom: 0.5em;\n",
       "        margin-top: 0.5em;\n",
       "        display: block;\n",
       "        white-space: nowrap;\n",
       "    }\n",
       "    h5 {\n",
       "        font-family: 'Open sans',verdana,arial,sans-serif;\n",
       "    }\n",
       "    .text_cell_render h5 {\n",
       "        font-weight: 200;\n",
       "        font-style: normal;\n",
       "        color: #1d3b84;\n",
       "        font-size: 16pt;\n",
       "        margin-bottom: 0em;\n",
       "        margin-top: 0.5em;\n",
       "        display: block;\n",
       "        white-space: nowrap;\n",
       "    }\n",
       "    div.text_cell_render{\n",
       "        font-family: 'Fira sans', verdana,arial,sans-serif;\n",
       "        line-height: 125%;\n",
       "        font-size: 115%;\n",
       "        text-align:justify;\n",
       "        text-justify:inter-word;\n",
       "    }\n",
       "    div.output_subarea.output_text.output_pyout {\n",
       "        overflow-x: auto;\n",
       "        overflow-y: scroll;\n",
       "        max-height: 50000px;\n",
       "    }\n",
       "    div.output_subarea.output_stream.output_stdout.output_text {\n",
       "        overflow-x: auto;\n",
       "        overflow-y: scroll;\n",
       "        max-height: 50000px;\n",
       "    }\n",
       "    div.output_wrapper{\n",
       "        margin-top:0.2em;\n",
       "        margin-bottom:0.2em;\n",
       "}\n",
       "\n",
       "    code{\n",
       "      font-size: 70%;\n",
       "    }\n",
       "    .rendered_html code{\n",
       "    background-color: transparent;\n",
       "    }\n",
       "    ul{\n",
       "        margin: 2em;\n",
       "    }\n",
       "    ul li{\n",
       "        padding-left: 0.5em; \n",
       "        margin-bottom: 0.5em; \n",
       "        margin-top: 0.5em; \n",
       "    }\n",
       "    ul li li{\n",
       "        padding-left: 0.2em; \n",
       "        margin-bottom: 0.2em; \n",
       "        margin-top: 0.2em; \n",
       "    }\n",
       "    ol{\n",
       "        margin: 2em;\n",
       "    }\n",
       "    ol li{\n",
       "        padding-left: 0.5em; \n",
       "        margin-bottom: 0.5em; \n",
       "        margin-top: 0.5em; \n",
       "    }\n",
       "    ul li{\n",
       "        padding-left: 0.5em; \n",
       "        margin-bottom: 0.5em; \n",
       "        margin-top: 0.2em; \n",
       "    }\n",
       "    a:link{\n",
       "       font-weight: bold;\n",
       "       color:#447adb;\n",
       "    }\n",
       "    a:visited{\n",
       "       font-weight: bold;\n",
       "       color: #1d3b84;\n",
       "    }\n",
       "    a:hover{\n",
       "       font-weight: bold;\n",
       "       color: #1d3b84;\n",
       "    }\n",
       "    a:focus{\n",
       "       font-weight: bold;\n",
       "       color:#447adb;\n",
       "    }\n",
       "    a:active{\n",
       "       font-weight: bold;\n",
       "       color:#447adb;\n",
       "    }\n",
       "    .rendered_html :link {\n",
       "       text-decoration: underline; \n",
       "    }\n",
       "    .rendered_html :hover {\n",
       "       text-decoration: none; \n",
       "    }\n",
       "    .rendered_html :visited {\n",
       "      text-decoration: none;\n",
       "    }\n",
       "    .rendered_html :focus {\n",
       "      text-decoration: none;\n",
       "    }\n",
       "    .rendered_html :active {\n",
       "      text-decoration: none;\n",
       "    }\n",
       "    .warning{\n",
       "        color: rgb( 240, 20, 20 )\n",
       "    } \n",
       "    hr {\n",
       "      color: #f3f3f3;\n",
       "      background-color: #f3f3f3;\n",
       "      height: 1px;\n",
       "    }\n",
       "    blockquote{\n",
       "      display:block;\n",
       "      background: #fcfcfc;\n",
       "      border-left: 5px solid #c76c0c;\n",
       "      font-family: 'Open sans',verdana,arial,sans-serif;\n",
       "      width:680px;\n",
       "      padding: 10px 10px 10px 10px;\n",
       "      text-align:justify;\n",
       "      text-justify:inter-word;\n",
       "      }\n",
       "      blockquote p {\n",
       "        margin-bottom: 0;\n",
       "        line-height: 125%;\n",
       "        font-size: 100%;\n",
       "      }\n",
       "</style>\n",
       "<script>\n",
       "    MathJax.Hub.Config({\n",
       "                        TeX: {\n",
       "                           extensions: [\"AMSmath.js\"]\n",
       "                           },\n",
       "                tex2jax: {\n",
       "                    inlineMath: [ ['$','$'], [\"\\\\(\",\"\\\\)\"] ],\n",
       "                    displayMath: [ ['$$','$$'], [\"\\\\[\",\"\\\\]\"] ]\n",
       "                },\n",
       "                displayAlign: 'center', // Change this to 'center' to center equations.\n",
       "                \"HTML-CSS\": {\n",
       "                    scale:100,\n",
       "                        availableFonts: [],\n",
       "                        preferredFont:null,\n",
       "                        webFont: \"TeX\",\n",
       "                    styles: {'.MathJax_Display': {\"margin\": 4}}\n",
       "                }\n",
       "        });\n",
       "</script>\n"
      ],
      "text/plain": [
       "<IPython.core.display.HTML object>"
      ]
     },
     "execution_count": 1,
     "metadata": {},
     "output_type": "execute_result"
    }
   ],
   "source": [
    "# style the notebook\n",
    "from IPython.core.display import HTML\n",
    "import urllib.request\n",
    "response = urllib.request.urlopen('http://bit.ly/1LC7EI7')\n",
    "HTML(response.read().decode(\"utf-8\"))"
   ]
  },
  {
   "cell_type": "markdown",
   "metadata": {},
   "source": [
    "# Perceptron Learning Algorithm"
   ]
  },
  {
   "cell_type": "markdown",
   "metadata": {},
   "source": [
    "** Not 'written' yet, just notes to an article**\n",
    "\n",
    "This is a poorly performing algorithm, but it illustrates the idea of machine learning.\n",
    "\n",
    "\n",
    "So the idea here is we encode information as a vector. For example, we may want to make a credit decision. Factors could include age, debt, income, and more. We cannot know if somebody is a good credit risk or not, but we have a lot of data from previous loans. We want to create a model from the past data so we can decide if we should approve a new application.\n",
    "\n",
    "* input: x -> application\n",
    "* data: N sets of previous inputs and outcomes ($\\mathbf{x}_i$, $y_i$) $\\text{for i in 1..N}$\n",
    "* output: y -> extend credit\n",
    "* target function: f: x -> y   No way to know this\n",
    "* hypthothesis function: g: x -> y  we learn this\n",
    "\n",
    "We do not know what the true target function $f$ might be. So we use machine learning to find a hypothesis function $g$, which will be *approximately* equal to $f$, or $f\\approx g$.\n",
    "\n",
    "\n",
    "Here is some example data. I use only two factors so I can plot it in 2 dimensional plots. Real data may have dozens to thousands of factors."
   ]
  },
  {
   "cell_type": "code",
   "execution_count": 2,
   "metadata": {
    "collapsed": false
   },
   "outputs": [],
   "source": [
    "import numpy as np\n",
    "data = np.array(((3.0, 4.0), (4.0, 6.0), (4.3, 4.0), (8.0, 7.0), \n",
    "                 (6.0, 5.5), (6.4, 8.2), (1.0, 7.0), (4.0, 5.2),  \n",
    "                 (7.0, 7.5), (5.0, 2.0), (7.0, 6.0), (7.0, 3.0),\n",
    "                 (6.0, 8.4), (2.0, 3.6), (1.0, 2.7)))"
   ]
  },
  {
   "cell_type": "markdown",
   "metadata": {},
   "source": [
    "A **peceptron** models the hypothesis function as a sum of weights. Maybe we should weight income very high, weight debt with a large negative value, model age with a modest positive value, and so on. \n",
    "\n",
    "Then, for a given set of factors we multiply the weights by the factors and sum them. If the sum exceeds a threshold we approve the credit, otherwise we deny it. \n",
    "\n",
    "If we let $D$ be the dimension of our factors (# of factors), then the perceptron is\n",
    "\n",
    "$$\\text{approve credit if } \\sum\\limits_{i=1}^d w_i x_i >\\text{ threshold}$$\n",
    "\n",
    "or\n",
    "$$h(\\mathbf{x}) = \\text{sign}\\Big[\\sum\\limits_{i=1}^d w_i x_i - \\text{threshold}\\Big]$$\n",
    "\n",
    "In other words, $h(\\mathbf{x})$ will be $1$ if we approve credit, and $-1$ if we deny credit.\n",
    "\n",
    "NumPy provides a `sign` routine, but it does not behave how we want. It returns 1 for positive numbers, -1 for negative numbers, but 0 for zero. Hence we will write our own `sign` function which uses `numpy.sign` but converts any value of 0 to 1."
   ]
  },
  {
   "cell_type": "code",
   "execution_count": 3,
   "metadata": {
    "collapsed": true
   },
   "outputs": [],
   "source": [
    "def sign(data):\n",
    "    \"\"\" numpy.sign gives 0 for sign(0), we want 1.\"\"\"\n",
    "    s = np.asarray(np.sign(data), dtype=int)\n",
    "    s[s==0] = 1\n",
    "    return s"
   ]
  },
  {
   "cell_type": "markdown",
   "metadata": {},
   "source": [
    "To test our code we need to simulate the function $f$, which normally we will not know. Here I arbitrarily define it as approving the credit if the sum of the x and y factors is less than 10.5. In other words, if $x_1 + x_2 < 10.5$ that person didn't make us money, otherwise they did make us money."
   ]
  },
  {
   "cell_type": "code",
   "execution_count": 4,
   "metadata": {
    "collapsed": true
   },
   "outputs": [],
   "source": [
    "def real_cost(data):\n",
    "    return sign(data[:, 1] + data[:, 0] - 10.5)"
   ]
  },
  {
   "cell_type": "markdown",
   "metadata": {},
   "source": [
    "Let's look at that in a plot. I'll write a function to plot the data points in red if they cost us money, and black if they made us money."
   ]
  },
  {
   "cell_type": "code",
   "execution_count": 5,
   "metadata": {
    "collapsed": false
   },
   "outputs": [
    {
     "data": {
      "image/png": "[encoded data removed]",
      "text/plain": [
       "<matplotlib.figure.Figure at 0x58f5128>"
      ]
     },
     "metadata": {},
     "output_type": "display_data"
    }
   ],
   "source": [
    "%matplotlib inline\n",
    "import matplotlib.pyplot as plt\n",
    "\n",
    "def plot_costs(x0, x1, y):\n",
    "    for i, c in enumerate(y):  \n",
    "        plt.scatter(x0[i], x1[i], c='k' if c==1 else 'r', s=50)\n",
    "\n",
    "y = real_cost(data)\n",
    "plot_costs(data[:, 0], data[:, 1], y)\n",
    "plt.plot([9, 1], [3, 9], ls='--');\n",
    "plt.xlim(0, 9); plt.ylim(1, 9);"
   ]
  },
  {
   "cell_type": "markdown",
   "metadata": {},
   "source": [
    "I drew a dotted line through the data which separates the red from the black points. The perceptron equation is a linear combination of factors, so it can only ever linearly discriminate between groups. Thus our data must be **linearly separable** for PLA to work.\n",
    "\n",
    "We want to implement this code using linear algebra. Because. We can get rid of the $> \\text{threshold}$ term by introducing a dummy term $x_0$, which we always set to 1. We introduce a new weight $w_0$ corresponding to it. This lets us write our hypothesis function as\n",
    "\n",
    "$$h(\\mathbf{x}) = \\text{sign}\\Big[\\sum\\limits_{i=0}^d w_i x_i \\Big]$$\n",
    "\n",
    "$\\sum\\limits_{i=0}^d w_i x_i$ is called an **inner product** in linear algebra, and we can calculate it extremely quickly with `numpy.inner()`. It is written as\n",
    "\n",
    "$$h(\\mathbf{x}) = \\mathbf{w}^\\mathsf{T}\\mathbf{x}$$\n",
    "\n",
    "Here is an example for $1*4 + 2*7$ (weights are 1 and 2, x's are 4 and 7):"
   ]
  },
  {
   "cell_type": "code",
   "execution_count": 6,
   "metadata": {
    "collapsed": false
   },
   "outputs": [
    {
     "data": {
      "text/plain": [
       "array([[18]])"
      ]
     },
     "execution_count": 6,
     "metadata": {},
     "output_type": "execute_result"
    }
   ],
   "source": [
    "x = np.array([[4, 7]])\n",
    "w = np.array([[1], \n",
    "              [2]])\n",
    "np.inner(w.T, x)"
   ]
  },
  {
   "cell_type": "markdown",
   "metadata": {},
   "source": [
    "Alternatively we could use `numpy.dot` to compute the same value, but inner better conveys what we are doing:"
   ]
  },
  {
   "cell_type": "code",
   "execution_count": 7,
   "metadata": {
    "collapsed": false
   },
   "outputs": [
    {
     "data": {
      "text/plain": [
       "array([[18]])"
      ]
     },
     "execution_count": 7,
     "metadata": {},
     "output_type": "execute_result"
    }
   ],
   "source": [
    "np.dot(w.T, x.T)"
   ]
  },
  {
   "cell_type": "markdown",
   "metadata": {},
   "source": [
    "I prefer having my data be a vector (a column) so I am prone to write the following, and will do so in the rest of this paper:"
   ]
  },
  {
   "cell_type": "code",
   "execution_count": 8,
   "metadata": {
    "collapsed": false
   },
   "outputs": [
    {
     "data": {
      "text/plain": [
       "array([[18]])"
      ]
     },
     "execution_count": 8,
     "metadata": {},
     "output_type": "execute_result"
    }
   ],
   "source": [
    "x = np.array([[4], [7]])\n",
    "w = np.array([[1, 2]])\n",
    "np.dot(w, x)"
   ]
  },
  {
   "cell_type": "markdown",
   "metadata": {},
   "source": [
    "We need to add $x_0 = 1$ to our data, so let's get that out of the way so we can discuss the algorithm. Our data is stored in column format (each row is a separate record), so we need to add a column of ones to the left of the matrix `data`. The opaquely named `numpy.c_()` concatenates columns together:"
   ]
  },
  {
   "cell_type": "code",
   "execution_count": 9,
   "metadata": {
    "collapsed": false
   },
   "outputs": [
    {
     "data": {
      "text/plain": [
       "array([[ 1. ,  3. ,  4. ],\n",
       "       [ 1. ,  4. ,  6. ],\n",
       "       [ 1. ,  4.3,  4. ],\n",
       "       [ 1. ,  8. ,  7. ],\n",
       "       [ 1. ,  6. ,  5.5],\n",
       "       [ 1. ,  6.4,  8.2],\n",
       "       [ 1. ,  1. ,  7. ],\n",
       "       [ 1. ,  4. ,  5.2],\n",
       "       [ 1. ,  7. ,  7.5],\n",
       "       [ 1. ,  5. ,  2. ],\n",
       "       [ 1. ,  7. ,  6. ],\n",
       "       [ 1. ,  7. ,  3. ],\n",
       "       [ 1. ,  6. ,  8.4],\n",
       "       [ 1. ,  2. ,  3.6],\n",
       "       [ 1. ,  1. ,  2.7]])"
      ]
     },
     "execution_count": 9,
     "metadata": {},
     "output_type": "execute_result"
    }
   ],
   "source": [
    "N = len(data) # number of data records\n",
    "xs = np.c_[np.ones(N), data] # add column of ones for x_0\n",
    "xs"
   ]
  },
  {
   "cell_type": "markdown",
   "metadata": {},
   "source": [
    "Now, the algorithm. \n",
    "\n",
    "We start by assigning random numbers to the weight vector. Perform the inner product against our data set. Compare to actual results. Almost certainly 1 or more will be misclassified. \n",
    "\n",
    "Randomly take *one* of the misclassified points and 'nudge' the weight so that the point is no longer misclassified. This nudge fixes this point, but of course might cause one or more other points to become misclassified. But against that point we might also fix the categorization of some points as well.\n",
    "\n",
    "$\\mathbf{w}^\\mathsf{T}\\mathbf{x}$ is a linear operator - it creates a line. When we start with random  weights this is the same as creating a random line drawn through our space. It is unlikely to correctly partition our data points correctly. When we 'nudge' the weight we are shifting the line so the point is on the other side of the line. So you can visualize the algorithm as moving the line around until it correctly separates our points. "
   ]
  },
  {
   "cell_type": "code",
   "execution_count": 10,
   "metadata": {
    "collapsed": false,
    "scrolled": true
   },
   "outputs": [
    {
     "data": {
      "image/png": "[encoded data removed]",
      "text/plain": [
       "<matplotlib.figure.Figure at 0x7f50ef0>"
      ]
     },
     "metadata": {},
     "output_type": "display_data"
    }
   ],
   "source": [
    "weights = [8.4805, -.5, -1.351]\n",
    "\n",
    "def plot_weight_line(weights, x0, x1):\n",
    "    def eq(w, x):\n",
    "        \"\"\" convert w0 + w1*x + w2*y into y = mx + b\"\"\"\n",
    "        return (-w[1]*x - w[0]) / w[2]\n",
    "    plt.plot([x0, x1], [eq(weights, x0), eq(weights, x1)], ls='--')\n",
    "     \n",
    "def plot_weight_example(weights):\n",
    "    plot_weight_line(weights, 0, 9)\n",
    "    plot_costs(data[:, 0], data[:, 1], y)\n",
    "    plt.xlim(0,9); plt.ylim(0, 10);\n",
    "    \n",
    "plot_weight_example(weights)"
   ]
  },
  {
   "cell_type": "markdown",
   "metadata": {},
   "source": [
    "And after some weight change to move the line so that the point at (4, 5.2) is on the correct side of the line:"
   ]
  },
  {
   "cell_type": "code",
   "execution_count": 11,
   "metadata": {
    "collapsed": false,
    "scrolled": true
   },
   "outputs": [
    {
     "data": {
      "image/png": "[encoded data removed]",
      "text/plain": [
       "<matplotlib.figure.Figure at 0x4924b70>"
      ]
     },
     "metadata": {},
     "output_type": "display_data"
    }
   ],
   "source": [
    "weights = [10.1782, -.6, -1.351]\n",
    "plot_weight_example(weights)"
   ]
  },
  {
   "cell_type": "markdown",
   "metadata": {},
   "source": [
    "You can see that it had the side benefit of also putting the point at (1, 7) on the right side of the line.\n",
    "\n",
    "I caused this by carefully choosing the weights by trial and error; the algorithm uses a different technique. Lets think about the geometric interpretation of the inner product $\\mathbf{w}^\\mathsf{T}\\mathbf{x}$.\n",
    "\n",
    "If the inner product is positive (accept the application) then the angle formed by $\\mathbf{w}$ and $\\mathbf{x}$ will be acute. If the inner product is negative (deny the application) then the angle will be oblique."
   ]
  },
  {
   "cell_type": "code",
   "execution_count": 12,
   "metadata": {
    "collapsed": false
   },
   "outputs": [
    {
     "data": {
      "image/png": "[encoded data removed]",
      "text/plain": [
       "<matplotlib.figure.Figure at 0x80aecc0>"
      ]
     },
     "metadata": {},
     "output_type": "display_data"
    }
   ],
   "source": [
    "def plot_vector(x, c='b', label=''):\n",
    "    plt.gca().quiver(0,0,x[0], x[1],angles='xy',scale_units='xy',scale=1, color=c)\n",
    "    plt.plot([0], [0], color=c, label=label)\n",
    "\n",
    "x = [1.0, 0.0]\n",
    "w = [.7, 0.9]\n",
    "\n",
    "plt.subplot(121)\n",
    "plot_vector(x, 'b', 'x')\n",
    "plot_vector(w, 'r', 'w')\n",
    "plt.xlim(-1.5, 1.5); plt.ylim(-1.5,1.5);\n",
    "plt.title('inner product is: {}'.format(np.dot(x, w)))\n",
    "plt.legend(loc=4)\n",
    "\n",
    "w = [-.9, .7]\n",
    "plt.subplot(122)\n",
    "plot_vector(x, 'b', 'x')\n",
    "plot_vector(w, 'r', 'w')\n",
    "plt.xlim(-1.5, 1.5); plt.ylim(-1.5,1.5);\n",
    "plt.title('inner product is: {}'.format(np.dot(x, w)))\n",
    "plt.legend(loc=4);"
   ]
  },
  {
   "cell_type": "markdown",
   "metadata": {},
   "source": [
    "If the angle is acute ($h(x)$ is positive) and the point is misclassified this means the inner product is positive, but it should be negative: $y=-1$. If we add $yx$ to the weight, i.e. $-x$ the angle will be converted to an oblique angle. Likewise, if the angle is oblique ($h(x)$ is negative) and the point is misclassified then $y=+1$. If we add $yx$ to the weight, i.e $+x$ the angle will be converted to an acute angle: "
   ]
  },
  {
   "cell_type": "code",
   "execution_count": 13,
   "metadata": {
    "collapsed": false
   },
   "outputs": [
    {
     "data": {
      "image/png": "[encoded data removed]",
      "text/plain": [
       "<matplotlib.figure.Figure at 0x80cf940>"
      ]
     },
     "metadata": {},
     "output_type": "display_data"
    }
   ],
   "source": [
    "x = [1.0, 0.0]\n",
    "w = [.7, 0.9]\n",
    "wyx = [-.3, .9]\n",
    "\n",
    "plt.subplot(121)\n",
    "plot_vector(x, 'b', 'x')\n",
    "plot_vector(w, 'r', 'w')\n",
    "plot_vector(wyx, 'g', 'w + yx')\n",
    "plt.xlim(-1.5, 1.5); plt.ylim(-1.5,1.5);\n",
    "plt.title('inner product is: {}'.format(np.dot(x, w)))\n",
    "plt.legend(loc=4)\n",
    "\n",
    "w = [-.9, .7]\n",
    "wyx = [.1, 0.7]\n",
    "plt.subplot(122)\n",
    "plot_vector(x, 'b', 'x')\n",
    "plot_vector(w, 'r', 'w')\n",
    "plot_vector(wyx, 'g', 'w + yx')\n",
    "plt.xlim(-1.5, 1.5); plt.ylim(-1.5,1.5);\n",
    "plt.title('inner product is: {}'.format(np.dot(x, w)))\n",
    "plt.legend(loc=4);"
   ]
  },
  {
   "cell_type": "markdown",
   "metadata": {},
   "source": [
    "Therefore our 'nudging' algorithm is very simple to implement. Choose a point such that $\\text{sign}(\\mathbf{w}^\\mathsf{T}\\mathbf{x}_n) \\neq y_n$, which means it is misclassified. Update the weight with $\\mathbf{w} \\gets \\mathbf{w} y_n\\mathbf{x}_n$. \n",
    "\n",
    "The PLA runs in a loop:\n",
    "\n",
    "```python\n",
    "\n",
    "while some point is misclassified:\n",
    "    randomly choose a miscategorized point i\n",
    "    w = w + y_i * x_i\n",
    "```\n",
    "\n",
    "PLA is not guaranteed to converge so we need to add checks for the number of iterations, and we also need to return a `success` flag indicating whether we found an answer or not. We use `numpy.random.permutation()` to randomly iterate over the points. If you don't do this you can easily enter into an infinite loop since you can endless fix point 1, which misclassifies point 2. You fix point 2, which misclassifies point 1, ad infinitum. "
   ]
  },
  {
   "cell_type": "code",
   "execution_count": 14,
   "metadata": {
    "collapsed": true
   },
   "outputs": [],
   "source": [
    "def PLA(xs, weights, max_iters=5000):\n",
    "    misidentified = True\n",
    "    success = False\n",
    "    iters = 0\n",
    "    indexes = range(len(xs))\n",
    "    while misidentified and iters < max_iters:\n",
    "        misidentified = False\n",
    "        for i in np.random.permutation(indexes):\n",
    "            x = xs[i]\n",
    "            s = sign(np.dot(weights, x)[0])\n",
    "            if s != y[i]:\n",
    "                misidentified = True\n",
    "                weights += np.dot(y[i], x)\n",
    "                break\n",
    "        success = not misidentified\n",
    "        iters += 1\n",
    "        \n",
    "    return success, iters"
   ]
  },
  {
   "cell_type": "code",
   "execution_count": 31,
   "metadata": {
    "collapsed": false
   },
   "outputs": [
    {
     "name": "stdout",
     "output_type": "stream",
     "text": [
      "final weights [[-62.32551368   7.30473617   3.49370446]]\n",
      "numer of iterations 281\n"
     ]
    },
    {
     "data": {
      "image/png": "[encoded data removed]",
      "text/plain": [
       "<matplotlib.figure.Figure at 0x8796b38>"
      ]
     },
     "metadata": {},
     "output_type": "display_data"
    },
    {
     "data": {
      "image/png": "[encoded data removed]",
      "text/plain": [
       "<matplotlib.figure.Figure at 0x8a5ef28>"
      ]
     },
     "metadata": {},
     "output_type": "display_data"
    }
   ],
   "source": [
    "from numpy.random import randn\n",
    "\n",
    "d = 2  # dimension of attributes\n",
    "\n",
    "\n",
    "# I'm hard coding this to cause initial weights to be\n",
    "# very bad. Uncommment next line to randomly generate weights.\n",
    "weights = np.array([[-0.32551368, 1.20473617, -1.00629554]])\n",
    "#weights = np.array([randn(d+1)*5 - 1.5])\n",
    "\n",
    "# plot initial setup\n",
    "plot_weight_line(weights[0, :], 0, 9)\n",
    "plot_costs(xs[:, 1], xs[:, 2], y)\n",
    "plt.title('Algorithm Start')\n",
    "\n",
    "# run algorithm\n",
    "success, iters = PLA(xs, weights)\n",
    "\n",
    "# plot and print the results\n",
    "plt.figure()\n",
    "plot_costs(xs[:, 1], xs[:, 2], y)\n",
    "print('final weights', weights)\n",
    "plot_weight_line(weights[0, :], 0, 9)\n",
    "plt.title('Algorithm Result')\n",
    "print('numer of iterations', iters)"
   ]
  }
 ],
 "metadata": {
  "kernelspec": {
   "display_name": "Python 3",
   "language": "python",
   "name": "python3"
  },
  "language_info": {
   "codemirror_mode": {
    "name": "ipython",
    "version": 3
   },
   "file_extension": ".py",
   "mimetype": "text/x-python",
   "name": "python",
   "nbconvert_exporter": "python",
   "pygments_lexer": "ipython3",
   "version": "3.4.3"
  }
 },
 "nbformat": 4,
 "nbformat_minor": 0
}
