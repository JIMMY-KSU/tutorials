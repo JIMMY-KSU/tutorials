{
 "cells": [
  {
   "cell_type": "markdown",
   "metadata": {},
   "source": [
    "# EM Algorithm\n",
    "\n",
    "## Maximum Likelihood Estimation\n",
    "\n",
    "Everyone starts with theory, I'm going to start with simple example of flipping coins. It is rare that we actually want to know something about flipping coins, but we *do* care about distributions in disease in populations and many other things which are structured the same way (bad wording).\n",
    "\n",
    "Start with a cois with unknown bias $\\beta$. Want to estimate bias.\n",
    "\n",
    "Easy. Flip it multiple times, and compute bias as $\\frac{\\text{number of heads}}{\\text{number of flips}}$. \n",
    "\n",
    "A coin flip is a discrete **bernoulli distribution**, which takes the value 1 with probability $p$, and 0 with probability $1-p$. For a coin, $p$ would be the bias of the coin, and 1 would indicate heads. "
   ]
  },
  {
   "cell_type": "code",
   "execution_count": 56,
   "metadata": {
    "collapsed": false
   },
   "outputs": [
    {
     "name": "stdout",
     "output_type": "stream",
     "text": [
      "bias: 0.628\n"
     ]
    }
   ],
   "source": [
    "from scipy.stats import bernoulli\n",
    "\n",
    "def compute_coin_bias(bias, trials):\n",
    "    heads_count = sum(bernoulli(bias).rvs(trials))\n",
    "    return heads_count / trials\n",
    "\n",
    "trials = 1000\n",
    "bias = 0.612\n",
    "\n",
    "estimate = compute_coin_bias (bias, trials)\n",
    "print('bias: {}'.format(estimate))"
   ]
  },
  {
   "cell_type": "markdown",
   "metadata": {},
   "source": [
    "**something about convergence rate**\n",
    "\n",
    "I won't motivate this yet, but now suppose we have 2 coins, where coin $i$ has some bias $\\beta_i$. We can compute the bias of each coin randomly selecting one, flipping it 10 times, and computing the . I'll make it easier by putting the computation in a function."
   ]
  },
  {
   "cell_type": "code",
   "execution_count": 5,
   "metadata": {
    "collapsed": false
   },
   "outputs": [],
   "source": [
    "def compute_coin_bias(bias, trials):\n",
    "    heads_count = sum(bernoulli(bias).rvs(trials))\n",
    "    return heads_count / trials"
   ]
  },
  {
   "cell_type": "code",
   "execution_count": 31,
   "metadata": {
    "collapsed": false
   },
   "outputs": [
    {
     "data": {
      "text/plain": [
       "0.60799999999999998"
      ]
     },
     "execution_count": 31,
     "metadata": {},
     "output_type": "execute_result"
    }
   ],
   "source": [
    "compute_coin_bias(.612, 1000)"
   ]
  },
  {
   "cell_type": "code",
   "execution_count": 53,
   "metadata": {
    "collapsed": false
   },
   "outputs": [
    {
     "name": "stdout",
     "output_type": "stream",
     "text": [
      "set  1 has computed bias  0.94 for the actual bias 0.943038\n",
      "set  2 has computed bias  0.94 for the actual bias 0.962455\n",
      "set  3 has computed bias  0.04 for the actual bias 0.077691\n",
      "set  4 has computed bias  0.08 for the actual bias 0.087271\n",
      "set  5 has computed bias  0.84 for the actual bias 0.865581\n",
      "set  6 has computed bias  0.39 for the actual bias 0.464947\n",
      "set  7 has computed bias  0.60 for the actual bias 0.673961\n",
      "set  8 has computed bias  0.67 for the actual bias 0.680888\n",
      "set  9 has computed bias  0.42 for the actual bias 0.380928\n",
      "set 10 has computed bias  0.85 for the actual bias 0.819090\n"
     ]
    }
   ],
   "source": [
    "from numpy.random import random\n",
    "for i in range(10):\n",
    "    # create a random bias for this set of coins\n",
    "    bias = random()\n",
    "    beta = compute_coin_bias(bias, 100)\n",
    "    \n",
    "    print('set {:2d} has computed bias  {:.2f} '\n",
    "          'for the actual bias {:.6f}'.format(i+1, beta, bias))  "
   ]
  },
  {
   "cell_type": "markdown",
   "metadata": {},
   "source": [
    "There is any number of problems for which this applies. We may want to count cancer incidence in different age groups, sexes, or geographic locations. We may be doing quality control on samples drawn from different runs at a factory, such as batches of pharmaceutical drugs. It doesn't matter. \n",
    "\n",
    "So far this is very straightforward. Let me introduce some terminology and concepts. First, the computation heads / flips is based on an assumption of a **uniform, stationary process** of coin flip results. I.e., we are assuming that the proportion of heads to tails is equal at the start of the trial as at the end, and that the bias of a coin does not vary over time. To put this in the context of a real problem, suppose we are computing cancer incidence for the year 1997. We assume that the cancer incidence rate on on any day in the year is the same.\n",
    "\n",
    "Next, the bias of the coin in this experiment is called a **parameter**, and our attempt to estimate the bias is known as **parameter estimation**.\n",
    "\n",
    "Combining the ideas of the last two paragraphs we come up with this. We are trying to estimate the parameters of a statistical model for a process. That is, I make a statistical model of our process, the coin flip. I assume that the flips are uniformly distributed and stationary. I don't know this is true, I am assuming it. Given that assumption, I inspect the data of the coin flips and *estimate* the parameter *bias*. \n",
    "\n",
    "What we have done is known as **maximum likelihood estimation**, or MLE. MLE estimates the parameters of a statistical model. The literature uses $\\theta$ to represent the set of parameters (there is usually more than one) which we are estimating, and the MLE equation is written as\n",
    "\n",
    "$$\\begin{aligned}\n",
    "\\hat{\\theta} &= \\underset{\\theta}{\\operatorname{argmax}}\\,\\bigg[ P(x_{1..n}|\\theta)\\bigg] \\\\\n",
    "&= \\underset{\\theta}{\\operatorname{argmax}}\\,\\bigg[\\prod\\limits_{i=1}^N P(x_i|\\theta)\\bigg]\n",
    "\\end{aligned}\n",
    "$$"
   ]
  },
  {
   "cell_type": "markdown",
   "metadata": {},
   "source": [
    "## Explaining the MLE Equation\n",
    "\n",
    "From the last section the MLE equation is\n",
    "\n",
    "$$\\hat{\\theta} =  \\underset{\\theta}{\\operatorname{argmax}}\\,\\bigg[\\prod\\limits_{i=1}^N P(x_i|\\theta)\\bigg] $$\n",
    "\n",
    "This requires some explanation. $x_i$ is the i$^{th}$ data point. For our coin experiment it is one coin flip, so $x_1$  would be the result of the first coin flip. $x_{1..n}$ is the notation for the set of all $N$ flips. Next, $P(x_{1..n}|\\theta)$ is the notation for the probability for the set of coin flips $x_{1..n}$ *given* the parameters with the value $\\theta$. The bar in the equation ($|$) means *given*, and is pronounced as the English word *given*. \n",
    "\n",
    "Let's be specific to ensure you understand this. For our coin flip experiments $\\theta$ is a single parameter, the bias of the coin, and $x_{1..n}$ is the set of flips in one experiment. Then, $P(x_{1..n}|\\theta=.6)$ would be the probability that the set of coin flips would happen *if* the coin bias was 0.6. We are not asserting that the bias *is* 0.6, we are merely computing the probability of the flips occurring *if and only if* the bias was 0.6.\n",
    "\n",
    "We are not interested in the probability of the coin flips given some arbitrary bias, we want to *estimate* the bias that gives us the highest probability for the set of coin flips. Naively, you can think of us wanting to compute:\n",
    "\n",
    "```python\n",
    "max_prob = 0\n",
    "for bias in np.arange(0, 1, step=1.e-8):\n",
    "    prob_bias = compute_probability(flips, bias)\n",
    "    max_prob = max(max_prob, prob_bias)\n",
    "```\n",
    "This would compute the bias to within 8 digits of precision, but it is a terribly slow and inefficient algorithm compared to our simple computation of the number of heads divided by the number of flips. But most interesting problems do not have such a easy way to compute the results. \n",
    "\n",
    "The notation $\\underset{\\theta}{\\operatorname{argmax}}\\,\\bigg[ P(x_{1..n}|\\theta)\\bigg]$ expresses the idea"
   ]
  },
  {
   "cell_type": "markdown",
   "metadata": {},
   "source": [
    "> compute the value for the parameters ($\\theta$) using some unspecified algorithm that has the highest probability (maximum likelihood) of being true for the data set."
   ]
  },
  {
   "cell_type": "markdown",
   "metadata": {},
   "source": [
    "This is a *maximum likelihood estimator* because it is estimating the paramaters $\\theta$ which has the maximum likelihood of being true given the data set and assumed statistical model. \n",
    "\n",
    "That is pretty easy. What about $\\underset{\\theta}{\\operatorname{argmax}}\\,\\bigg[\\prod\\limits_{i=1}^N P(x_i|\\theta)\\bigg]$? This is based on the way to compute the probability for the set of $N$ independent trials is the product of the probabilities for each trial:\n",
    "\n",
    "$$\\begin{aligned}\n",
    "P(x_{1..n}|\\theta) &= P(x_1|\\theta)\\, \\times\\, P(x_2|\\theta)\\, \\times\\, P(x_2|\\theta)\\, \\times\\, ...\\, \\times\\, P(x_n|\\theta) \\\\\n",
    "&= \\prod\\limits_{i=1}^N P(x_i|\\theta)\n",
    "\\end{aligned}$$\n",
    "\n",
    "For our simple coin flipping example we can compute $\\underset{\\theta}{\\operatorname{argmax}}\\,\\bigg[ P(x_{1..n}|\\theta)\\bigg]$ with \n",
    "```python\n",
    "def compute_coin_bias(bias, TRIALS):\n",
    "    rands = random(TRIALS)\n",
    "    return np.sum(rands <= bias) / TRIALS\n",
    "```\n",
    "\n",
    "but most problems are not so easy. There is a lot I could say about solving this problem in general, but the EM Algorithm that we will be learning side-steps this problem nicely. "
   ]
  },
  {
   "cell_type": "markdown",
   "metadata": {},
   "source": [
    "## Log-likelihood\n",
    "\n",
    "I will add one concept to this before I continue. Some of the difficulties in computing the MLE can be reduced by introducing the concept of the **log-likelihood**, which is just the logarithm of the likelihood function. Why would we do this? \n",
    "\n",
    "To find the maximum value for some function $f(x)$ we take the derivative of it and set it to zero, like this: $f'(x) = 0$. This requires that the function be differentiable, which is often either very difficult or impossible to do. \n",
    "\n",
    "In our case the function is a probability distribution. The logarithm is a *monotonically increasing* function. In other words, if we take the logarithm of a likelihood function the logarithm will reach its maximum value at the same points that the likelihood function does. This is true both for the local maxima and global maxima. \n",
    "\n",
    "Let's see this in code and a graph."
   ]
  },
  {
   "cell_type": "code",
   "execution_count": 63,
   "metadata": {
    "collapsed": false
   },
   "outputs": [
    {
     "data": {
      "image/png": "[encoded data removed]",
      "text/plain": [
       "<matplotlib.figure.Figure at 0x7e92208>"
      ]
     },
     "metadata": {},
     "output_type": "display_data"
    }
   ],
   "source": [
    "%matplotlib inline\n",
    "import matplotlib.pyplot as plt\n",
    "from numpy.random import randn\n",
    "import numpy as np\n",
    "\n",
    "def norm(x, x0, sigma):\n",
    "    return np.exp(-0.5 * (x - x0) ** 2 / sigma ** 2)\n",
    "\n",
    "# compute some arbitrary mixture of gaussians\n",
    "x = np.linspace(0, 1, 200)\n",
    "likelihood = .65* norm(x, .2, .05) + .35*norm(x, .55, .08)\n",
    "likelihood /=  np.sum(likelihood) # normalize it\n",
    "\n",
    "log_likelihood = np.log(likelihood)\n",
    "# make it positive and normalized.\n",
    "log_likelihood += -np.min(log_likelihood)\n",
    "log_likelihood /= np.sum(log_likelihood)\n",
    "\n",
    "# plot them\n",
    "plt.plot(x, likelihood, label='likelihood')\n",
    "plt.plot(x, log_likelihood, label='log likelihood')\n",
    "plt.legend();"
   ]
  },
  {
   "cell_type": "markdown",
   "metadata": {},
   "source": [
    "We can show that the maximum value of each is at the same index with:"
   ]
  },
  {
   "cell_type": "code",
   "execution_count": 61,
   "metadata": {
    "collapsed": false
   },
   "outputs": [
    {
     "name": "stdout",
     "output_type": "stream",
     "text": [
      "40\n",
      "40\n"
     ]
    }
   ],
   "source": [
    "print(np.argmax(likelihood))\n",
    "print(np.argmax(log_likelihood))"
   ]
  },
  {
   "cell_type": "markdown",
   "metadata": {},
   "source": [
    "Indeed they are the same. I haven't proven that this relationship is valid, but it is. I don't want to get bogged down in a proof. See any statistics or machine learning textbook if you can't work it out yourself.\n",
    "\n",
    "If you see log-likelihood being used anywhere just think back to this chart. They have almost certainly introduced the logarithm not for any reason related to the problem, but just to make the computations easier."
   ]
  },
  {
   "cell_type": "markdown",
   "metadata": {},
   "source": [
    "## Dealing with Incomplete Data\n",
    "\n",
    "All of the work above is to prepare us for this, the actual problem. It is easy to compute the bias of 2 coins when we know the flips for each coin. What if we  lost or don't have that association? In other words, we have a sequence of heads and tails recorded, but do not know which coin produced the flips?\n",
    "\n",
    "This is not a silly question, this is a very common situation in practice. For example **some example here**\n",
    "\n",
    "Let's look as a plot:"
   ]
  },
  {
   "cell_type": "code",
   "execution_count": 30,
   "metadata": {
    "collapsed": false
   },
   "outputs": [
    {
     "name": "stdout",
     "output_type": "stream",
     "text": [
      "[ 10.   4.   4.  10.  10.   4.  10.  10.]\n"
     ]
    },
    {
     "data": {
      "image/png": "[encoded data removed]",
      "text/plain": [
       "<matplotlib.figure.Figure at 0x72af9e8>"
      ]
     },
     "metadata": {},
     "output_type": "display_data"
    }
   ],
   "source": [
    "num_trials, num_flips = 8, 20\n",
    "data = np.zeros(num_trials)\n",
    "bias1, bias2 = .7, .3\n",
    "theta = [bias1, bias2]\n",
    "\n",
    "def run_trials(data, theta):\n",
    "    num_trials, = data.shape\n",
    "    flips = random(num_flips)\n",
    "    for i in range(num_trials):\n",
    "        if random() < .5:\n",
    "            data[i] =  np.sum(flips < theta[0])\n",
    "        else:\n",
    "            data[i] = np.sum(flips < theta[1])\n",
    "\n",
    "run_trials(data, theta)\n",
    "            \n",
    "\n",
    "plt.plot(data)\n",
    "plt.title('# of heads per trial')\n",
    "plt.xlabel('trial')\n",
    "plt.ylabel('# heads')\n",
    "plt.ylim(0, 20);\n",
    "print(data)"
   ]
  },
  {
   "cell_type": "markdown",
   "metadata": {},
   "source": [
    "By inspection of the code we see that one coin had a bias of $\\beta=0.57$ and the second had a bias of $\\beta=0.43$. At first glance this problem seems intractable. For example, probability allows for a coin with bias $\\beta=.99$ to flip tails 10 times in a row, so we cannot assume that any given trial will have a high number of heads reflects a large bias ($\\beta >> 0.5$). If in the code I made the bias for one coin much higher than the other, such as `bias_1 = 0.97`, `bias_2 = 0.007`, we might be able to solve this problem by inspection just by assuming that trials that are all heads are due to coin one and trials with almost all tails are due to coin two. But the differences in data are not generally so stark.\n",
    "\n",
    "So, in general the problem seems intractable. But, is it? Let's just take a naive approach and see where it gets us.\n",
    "\n",
    "We need to start somewhere, so lets start by assuming some bias for each coin. We have no reason to assume any value, so I will choose a value at random: 0.75 for the first coin, and 0.3 for the second coin. This is *entirely* arbitrary - I did not inspect the data and somehow infer these numbers. We need to start somewhere.\n",
    "\n",
    "Let's get this into standard notation. First, we say that\n",
    "\n",
    "$$\\begin{aligned}\\beta_1 &= 0.6\\\\\\beta_2 &= 0.3\\end{aligned}$$\n",
    "\n",
    "where $\\beta_i$ is the bias for the i$^{th}$ coin. Now we collect them into $\\theta$ for notational convenience:\n",
    "\n",
    "$$\\theta = (\\beta_1, \\beta_2) = (0.6, 0.3)$$\n",
    "\n",
    "In code we might express this as"
   ]
  },
  {
   "cell_type": "code",
   "execution_count": 31,
   "metadata": {
    "collapsed": false
   },
   "outputs": [
    {
     "data": {
      "text/plain": [
       "array([ 0.6,  0.3])"
      ]
     },
     "execution_count": 31,
     "metadata": {},
     "output_type": "execute_result"
    }
   ],
   "source": [
    "theta = np.array((0.6, 0.3))\n",
    "theta"
   ]
  },
  {
   "cell_type": "markdown",
   "metadata": {},
   "source": [
    "These are very unlikely to be close to accurate, but let's press on. We can now inspect each trial and compute if it is more likely to have been caused by the first coin or second coin based on these biases."
   ]
  },
  {
   "cell_type": "code",
   "execution_count": 32,
   "metadata": {
    "collapsed": false
   },
   "outputs": [
    {
     "name": "stdout",
     "output_type": "stream",
     "text": [
      "coin 1 is the closest match for bias 0.5\n",
      "coin 2 is the closest match for bias 0.2\n",
      "coin 2 is the closest match for bias 0.2\n",
      "coin 1 is the closest match for bias 0.5\n",
      "coin 1 is the closest match for bias 0.5\n",
      "coin 2 is the closest match for bias 0.2\n",
      "coin 1 is the closest match for bias 0.5\n",
      "coin 1 is the closest match for bias 0.5\n"
     ]
    }
   ],
   "source": [
    "def compute_assignment(biases, theta):\n",
    "    num_trials = len(biases) \n",
    "    assignment = np.zeros(num_trials, dtype=int)\n",
    "    for i, bias in enumerate(biases):\n",
    "        assignment[i] = np.abs(theta - bias).argmin()        \n",
    "    return assignment\n",
    "\n",
    "bias = data / num_flips\n",
    "assignment = compute_assignment(bias, theta)\n",
    "\n",
    "for i in range(len(data)):\n",
    "    print('coin {} is the closest match for bias {}'\n",
    "          .format(assignment[i]+1, bias[i]))"
   ]
  },
  {
   "cell_type": "markdown",
   "metadata": {},
   "source": [
    "Now that we have the assignments, we have an outline for an algorithm. We could start with an initial estimate for $\\theta$ and compute which coin is most likely \n",
    "\n",
    "If we know there is a probability $p$ for an event, and we observe $d$ occurances of that event over $N$ trials, the probability of that occuring is given by\n",
    "\n",
    "$$P(\\text{data} \\, \\lvert\\, p) = \\begin{pmatrix}N\\\\d\\end{pmatrix} p^d (1-p)^{N-d}$$\n",
    "\n",
    "We will turn that into code with:"
   ]
  },
  {
   "cell_type": "code",
   "execution_count": 22,
   "metadata": {
    "collapsed": false
   },
   "outputs": [],
   "source": [
    "from math import log\n",
    "from scipy.misc import comb\n",
    "\n",
    "def coin_likelihood(N, d, bias):\n",
    "    return comb(N, d, exact=True) * bias**d * (1-bias)**(N-d)\n",
    "\n",
    "def coin_log_likelihood(N, d, bias):\n",
    "    return np.log(comb(N, d, exact=True) * bias**d * (1-bias)**(N-d))"
   ]
  },
  {
   "cell_type": "code",
   "execution_count": 23,
   "metadata": {
    "collapsed": false,
    "scrolled": true
   },
   "outputs": [
    {
     "name": "stdout",
     "output_type": "stream",
     "text": [
      "0.10291934520000003\n",
      "0.24609375\n",
      "-2.27380965381\n",
      "-1.40204271809\n"
     ]
    }
   ],
   "source": [
    "print(coin_likelihood(N=10, d=5, bias=.7))\n",
    "print(coin_likelihood(N=10, d=5, bias=.5))\n",
    "print(coin_log_likelihood(N=10, d=5, bias=.7))\n",
    "print(coin_log_likelihood(N=10, d=5, bias=.5))"
   ]
  },
  {
   "cell_type": "code",
   "execution_count": 19,
   "metadata": {
    "collapsed": false
   },
   "outputs": [
    {
     "data": {
      "text/html": [
       "<style>\n",
       "@import url('http://fonts.googleapis.com/css?family=Source+Code+Pro');\n",
       "@import url('http://fonts.googleapis.com/css?family=Vollkorn');\n",
       "@import url('http://fonts.googleapis.com/css?family=Arimo');\n",
       "@import url('http://fonts.googleapis.com/css?family=Fira_sans');\n",
       "\n",
       "    div.cell{\n",
       "        width: 900px;\n",
       "        margin-left: 0% !important;\n",
       "        margin-right: auto;\n",
       "    }\n",
       "    div.text_cell code {\n",
       "        background: transparent;\n",
       "        color: #000000;\n",
       "        font-weight: 600;\n",
       "        font-size: 11pt;\n",
       "        font-style: bold;\n",
       "        font-family:  'Source Code Pro', Consolas, monocco, monospace;\n",
       "   }\n",
       "    h1 {\n",
       "        font-family: 'Open sans',verdana,arial,sans-serif;\n",
       "\t}\n",
       "\t\n",
       "    div.input_area {\n",
       "        background: #F6F6F9;\n",
       "        border: 1px solid #586e75;\n",
       "    }\n",
       "\n",
       "    .text_cell_render h1 {\n",
       "        font-weight: 200;\n",
       "        font-size: 30pt;\n",
       "        line-height: 100%;\n",
       "        color:#c76c0c;\n",
       "        margin-bottom: 0.5em;\n",
       "        margin-top: 1em;\n",
       "        display: block;\n",
       "        white-space: wrap;\n",
       "        text-align: left;\n",
       "    } \n",
       "    h2 {\n",
       "        font-family: 'Open sans',verdana,arial,sans-serif;\n",
       "        text-align: left;\n",
       "    }\n",
       "    .text_cell_render h2 {\n",
       "        font-weight: 200;\n",
       "        font-size: 16pt;\n",
       "        font-style: italic;\n",
       "        line-height: 100%;\n",
       "        color:#c76c0c;\n",
       "        margin-bottom: 0.5em;\n",
       "        margin-top: 1.5em;\n",
       "        display: block;\n",
       "        white-space: wrap;\n",
       "        text-align: left;\n",
       "    } \n",
       "    h3 {\n",
       "        font-family: 'Open sans',verdana,arial,sans-serif;\n",
       "    }\n",
       "    .text_cell_render h3 {\n",
       "        font-weight: 200;\n",
       "        font-size: 14pt;\n",
       "        line-height: 100%;\n",
       "        color:#d77c0c;\n",
       "        margin-bottom: 0.5em;\n",
       "        margin-top: 2em;\n",
       "        display: block;\n",
       "        white-space: wrap;\n",
       "        text-align: left;\n",
       "    }\n",
       "    h4 {\n",
       "        font-family: 'Open sans',verdana,arial,sans-serif;\n",
       "    }\n",
       "    .text_cell_render h4 {\n",
       "        font-weight: 100;\n",
       "        font-size: 14pt;\n",
       "        color:#d77c0c;\n",
       "        margin-bottom: 0.5em;\n",
       "        margin-top: 0.5em;\n",
       "        display: block;\n",
       "        white-space: nowrap;\n",
       "    }\n",
       "    h5 {\n",
       "        font-family: 'Open sans',verdana,arial,sans-serif;\n",
       "    }\n",
       "    .text_cell_render h5 {\n",
       "        font-weight: 200;\n",
       "        font-style: normal;\n",
       "        color: #1d3b84;\n",
       "        font-size: 16pt;\n",
       "        margin-bottom: 0em;\n",
       "        margin-top: 0.5em;\n",
       "        display: block;\n",
       "        white-space: nowrap;\n",
       "    }\n",
       "    div.text_cell_render{\n",
       "        font-family: 'Fira sans', verdana,arial,sans-serif;\n",
       "        line-height: 125%;\n",
       "        font-size: 115%;\n",
       "        text-align:justify;\n",
       "        text-justify:inter-word;\n",
       "    }\n",
       "    div.output_subarea.output_text.output_pyout {\n",
       "        overflow-x: auto;\n",
       "        overflow-y: scroll;\n",
       "        max-height: 50000px;\n",
       "    }\n",
       "    div.output_subarea.output_stream.output_stdout.output_text {\n",
       "        overflow-x: auto;\n",
       "        overflow-y: scroll;\n",
       "        max-height: 50000px;\n",
       "    }\n",
       "    div.output_wrapper{\n",
       "        margin-top:0.2em;\n",
       "        margin-bottom:0.2em;\n",
       "}\n",
       "\n",
       "    code{\n",
       "      font-size: 70%;\n",
       "    }\n",
       "    .rendered_html code{\n",
       "    background-color: transparent;\n",
       "    }\n",
       "    ul{\n",
       "        margin: 2em;\n",
       "    }\n",
       "    ul li{\n",
       "        padding-left: 0.5em; \n",
       "        margin-bottom: 0.5em; \n",
       "        margin-top: 0.5em; \n",
       "    }\n",
       "    ul li li{\n",
       "        padding-left: 0.2em; \n",
       "        margin-bottom: 0.2em; \n",
       "        margin-top: 0.2em; \n",
       "    }\n",
       "    ol{\n",
       "        margin: 2em;\n",
       "    }\n",
       "    ol li{\n",
       "        padding-left: 0.5em; \n",
       "        margin-bottom: 0.5em; \n",
       "        margin-top: 0.5em; \n",
       "    }\n",
       "    ul li{\n",
       "        padding-left: 0.5em; \n",
       "        margin-bottom: 0.5em; \n",
       "        margin-top: 0.2em; \n",
       "    }\n",
       "    a:link{\n",
       "       font-weight: bold;\n",
       "       color:#447adb;\n",
       "    }\n",
       "    a:visited{\n",
       "       font-weight: bold;\n",
       "       color: #1d3b84;\n",
       "    }\n",
       "    a:hover{\n",
       "       font-weight: bold;\n",
       "       color: #1d3b84;\n",
       "    }\n",
       "    a:focus{\n",
       "       font-weight: bold;\n",
       "       color:#447adb;\n",
       "    }\n",
       "    a:active{\n",
       "       font-weight: bold;\n",
       "       color:#447adb;\n",
       "    }\n",
       "    .rendered_html :link {\n",
       "       text-decoration: underline; \n",
       "    }\n",
       "    .rendered_html :hover {\n",
       "       text-decoration: none; \n",
       "    }\n",
       "    .rendered_html :visited {\n",
       "      text-decoration: none;\n",
       "    }\n",
       "    .rendered_html :focus {\n",
       "      text-decoration: none;\n",
       "    }\n",
       "    .rendered_html :active {\n",
       "      text-decoration: none;\n",
       "    }\n",
       "    .warning{\n",
       "        color: rgb( 240, 20, 20 )\n",
       "    } \n",
       "    hr {\n",
       "      color: #f3f3f3;\n",
       "      background-color: #f3f3f3;\n",
       "      height: 1px;\n",
       "    }\n",
       "    blockquote{\n",
       "      display:block;\n",
       "      background: #fcfcfc;\n",
       "      border-left: 5px solid #c76c0c;\n",
       "      font-family: 'Open sans',verdana,arial,sans-serif;\n",
       "      width:680px;\n",
       "      padding: 10px 10px 10px 10px;\n",
       "      text-align:justify;\n",
       "      text-justify:inter-word;\n",
       "      }\n",
       "      blockquote p {\n",
       "        margin-bottom: 0;\n",
       "        line-height: 125%;\n",
       "        font-size: 100%;\n",
       "      }\n",
       "</style>\n",
       "<script>\n",
       "    MathJax.Hub.Config({\n",
       "                        TeX: {\n",
       "                           extensions: [\"AMSmath.js\"]\n",
       "                           },\n",
       "                tex2jax: {\n",
       "                    inlineMath: [ ['$','$'], [\"\\\\(\",\"\\\\)\"] ],\n",
       "                    displayMath: [ ['$$','$$'], [\"\\\\[\",\"\\\\]\"] ]\n",
       "                },\n",
       "                displayAlign: 'center', // Change this to 'center' to center equations.\n",
       "                \"HTML-CSS\": {\n",
       "                    scale:100,\n",
       "                        availableFonts: [],\n",
       "                        preferredFont:null,\n",
       "                        webFont: \"TeX\",\n",
       "                    styles: {'.MathJax_Display': {\"margin\": 4}}\n",
       "                }\n",
       "        });\n",
       "</script>\n"
      ],
      "text/plain": [
       "<IPython.core.display.HTML object>"
      ]
     },
     "execution_count": 19,
     "metadata": {},
     "output_type": "execute_result"
    }
   ],
   "source": [
    "# style the notebook\n",
    "from IPython.core.display import HTML\n",
    "import urllib.request\n",
    "response = urllib.request.urlopen('http://bit.ly/1LC7EI7')\n",
    "HTML(response.read().decode(\"utf-8\"))"
   ]
  }
 ],
 "metadata": {
  "kernelspec": {
   "display_name": "Python 3",
   "language": "python",
   "name": "python3"
  },
  "language_info": {
   "codemirror_mode": {
    "name": "ipython",
    "version": 3
   },
   "file_extension": ".py",
   "mimetype": "text/x-python",
   "name": "python",
   "nbconvert_exporter": "python",
   "pygments_lexer": "ipython3",
   "version": "3.4.3"
  }
 },
 "nbformat": 4,
 "nbformat_minor": 0
}
