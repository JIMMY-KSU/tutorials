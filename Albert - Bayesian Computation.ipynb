{
 "cells": [
  {
   "cell_type": "markdown",
   "metadata": {},
   "source": [
    "Examples from Albert's *Bayesian Computation in R*"
   ]
  },
  {
   "cell_type": "code",
   "execution_count": 1,
   "metadata": {
    "collapsed": true
   },
   "outputs": [],
   "source": [
    "%matplotlib inline\n",
    "import math\n",
    "import matplotlib.pyplot as plt\n",
    "import numpy as np\n",
    "import numpy.random as random\n",
    "import scipy.stats as stats"
   ]
  },
  {
   "cell_type": "code",
   "execution_count": 2,
   "metadata": {
    "collapsed": false
   },
   "outputs": [],
   "source": [
    "def tstat(x, y):\n",
    "    m, n = len(x), len(y)\n",
    "    \n",
    "    # pooled standard deviation\n",
    "    sp = np.sqrt(((m-1)*np.std(x)**2 + (n-1)*np.std(y)**2)/(m+n-2))\n",
    "    return (np.mean(x) - np.mean(y)) / (sp * np.sqrt(1./m + 1./n))"
   ]
  },
  {
   "cell_type": "code",
   "execution_count": 3,
   "metadata": {
    "collapsed": false
   },
   "outputs": [
    {
     "name": "stdout",
     "output_type": "stream",
     "text": [
      "2.1783893005\n",
      "2.17837840853\n",
      "2.18054528798\n"
     ]
    }
   ],
   "source": [
    "x = stats.norm.rvs(loc=50,scale=10,size=10000)\n",
    "y = stats.norm.rvs(loc=50,scale=100,size=10000)\n",
    "x = random.randn(100000)*1 + 50\n",
    "y = random.randn(100000)*1 + 50\n",
    "\n",
    "print(tstat(x,y))\n",
    "\n",
    "# scipy's version, using Welch, which does not assume equal variance\n",
    "print(stats.ttest_ind(x, y, equal_var=False)[0])\n",
    "print(stats.ttest_rel(x, y)[0])"
   ]
  },
  {
   "cell_type": "code",
   "execution_count": 4,
   "metadata": {
    "collapsed": false
   },
   "outputs": [
    {
     "data": {
      "text/plain": [
       "1.0011533138554058"
      ]
     },
     "execution_count": 4,
     "metadata": {},
     "output_type": "execute_result"
    }
   ],
   "source": [
    "np.std(x)"
   ]
  },
  {
   "cell_type": "code",
   "execution_count": 5,
   "metadata": {
    "collapsed": false
   },
   "outputs": [
    {
     "data": {
      "text/plain": [
       "(2.1783784085286322, 0.029379039784604235)"
      ]
     },
     "execution_count": 5,
     "metadata": {},
     "output_type": "execute_result"
    }
   ],
   "source": [
    "stats.ttest_ind(x, y, equal_var=False)"
   ]
  }
 ],
 "metadata": {
  "kernelspec": {
   "display_name": "Python 3",
   "language": "python",
   "name": "python3"
  },
  "language_info": {
   "codemirror_mode": {
    "name": "ipython",
    "version": 3
   },
   "file_extension": ".py",
   "mimetype": "text/x-python",
   "name": "python",
   "nbconvert_exporter": "python",
   "pygments_lexer": "ipython3",
   "version": "3.4.3"
  }
 },
 "nbformat": 4,
 "nbformat_minor": 0
}
